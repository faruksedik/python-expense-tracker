{
 "cells": [
  {
   "cell_type": "markdown",
   "metadata": {},
   "source": [
    "### This NoteBook is created to test the working classes and methods in the expense_tracker.py file"
   ]
  },
  {
   "cell_type": "markdown",
   "metadata": {},
   "source": [
    "#### Importing the classes from expense_tracker python file"
   ]
  },
  {
   "cell_type": "code",
   "execution_count": 1,
   "metadata": {},
   "outputs": [],
   "source": [
    "from expense_tracker import Expense, ExpenseDatabase"
   ]
  },
  {
   "cell_type": "markdown",
   "metadata": {},
   "source": [
    "#### Creating Instace of the Expense class and testing its methods"
   ]
  },
  {
   "cell_type": "code",
   "execution_count": 6,
   "metadata": {},
   "outputs": [
    {
     "name": "stdout",
     "output_type": "stream",
     "text": [
      "Expense 1:\n"
     ]
    },
    {
     "data": {
      "text/plain": [
       "{'id': 'e9460244-2a44-4a6b-921b-625362555ecf',\n",
       " 'title': 'Lunch',\n",
       " 'amount': 10.5,\n",
       " 'created_at': '2025-02-20T10:50:57.804385+00:00',\n",
       " 'updated_at': '2025-02-20T10:50:57.804385+00:00'}"
      ]
     },
     "execution_count": 6,
     "metadata": {},
     "output_type": "execute_result"
    }
   ],
   "source": [
    "# Create an expense for Lunch with amount 10.50\n",
    "expense1 = Expense(\"Lunch\", 10.50)\n",
    "print(\"Expense 1:\")\n",
    "expense1.to_dict()"
   ]
  },
  {
   "cell_type": "code",
   "execution_count": 7,
   "metadata": {},
   "outputs": [
    {
     "name": "stdout",
     "output_type": "stream",
     "text": [
      "Expense 2:\n"
     ]
    },
    {
     "data": {
      "text/plain": [
       "{'id': '4b222227-de5a-462a-aa8b-c7fec5523436',\n",
       " 'title': 'Coffee',\n",
       " 'amount': 3.0,\n",
       " 'created_at': '2025-02-20T10:51:18.992111+00:00',\n",
       " 'updated_at': '2025-02-20T10:51:18.992111+00:00'}"
      ]
     },
     "execution_count": 7,
     "metadata": {},
     "output_type": "execute_result"
    }
   ],
   "source": [
    "# Create another expense for Coffee with amount 3.00\n",
    "expense2 = Expense(\"Coffee\", 3.00)    \n",
    "print(\"Expense 2:\")\n",
    "expense2.to_dict()"
   ]
  },
  {
   "cell_type": "code",
   "execution_count": 8,
   "metadata": {},
   "outputs": [
    {
     "name": "stdout",
     "output_type": "stream",
     "text": [
      "Updated Expense 1:\n"
     ]
    },
    {
     "data": {
      "text/plain": [
       "{'id': 'e9460244-2a44-4a6b-921b-625362555ecf',\n",
       " 'title': 'Dinner',\n",
       " 'amount': 15.0,\n",
       " 'created_at': '2025-02-20T10:50:57.804385+00:00',\n",
       " 'updated_at': '2025-02-20T10:53:50.244210+00:00'}"
      ]
     },
     "execution_count": 8,
     "metadata": {},
     "output_type": "execute_result"
    }
   ],
   "source": [
    "# Update expense1: Change title to Dinner and amount to 15.00\n",
    "expense1.update(title=\"Dinner\", amount=15.00)\n",
    "print(\"Updated Expense 1:\")\n",
    "expense1.to_dict()"
   ]
  },
  {
   "cell_type": "markdown",
   "metadata": {},
   "source": [
    "#### Creating Instace of the ExpenseDatabase class and testing its methods"
   ]
  },
  {
   "cell_type": "code",
   "execution_count": 9,
   "metadata": {},
   "outputs": [
    {
     "data": {
      "text/plain": [
       "[{'id': '528c3018-8e68-4e1a-8698-2e9ca5c3fabd',\n",
       "  'title': 'Groceries',\n",
       "  'amount': 50.0,\n",
       "  'created_at': '2025-02-20T10:59:02.757633+00:00',\n",
       "  'updated_at': '2025-02-20T10:59:02.757633+00:00'},\n",
       " {'id': 'bf677da9-0ed4-46a8-acea-b2d721f79ff3',\n",
       "  'title': 'Utilities',\n",
       "  'amount': 100.0,\n",
       "  'created_at': '2025-02-20T10:59:02.757633+00:00',\n",
       "  'updated_at': '2025-02-20T10:59:02.757633+00:00'}]"
      ]
     },
     "execution_count": 9,
     "metadata": {},
     "output_type": "execute_result"
    }
   ],
   "source": [
    "# Create an expense\n",
    "expense3 = Expense(\"Groceries\", 50.0)\n",
    "expense4 = Expense(\"Utilities\", 100.0)\n",
    "\n",
    "# Create an expense database\n",
    "db = ExpenseDatabase()\n",
    "\n",
    "# Add expenses to the database\n",
    "db.add_expense(expense3)\n",
    "db.add_expense(expense4)\n",
    "\n",
    "db.to_dict()"
   ]
  },
  {
   "cell_type": "code",
   "execution_count": null,
   "metadata": {},
   "outputs": [
    {
     "data": {
      "text/plain": [
       "{'id': '528c3018-8e68-4e1a-8698-2e9ca5c3fabd',\n",
       " 'title': 'Groceries',\n",
       " 'amount': 50.0,\n",
       " 'created_at': '2025-02-20T10:59:02.757633+00:00',\n",
       " 'updated_at': '2025-02-20T10:59:02.757633+00:00'}"
      ]
     },
     "execution_count": 12,
     "metadata": {},
     "output_type": "execute_result"
    }
   ],
   "source": [
    "# Retrieve an expense3 by ID\n",
    "db.get_expense_by_id(expense3.id).to_dict()"
   ]
  },
  {
   "cell_type": "code",
   "execution_count": 13,
   "metadata": {},
   "outputs": [
    {
     "data": {
      "text/plain": [
       "{'id': 'bf677da9-0ed4-46a8-acea-b2d721f79ff3',\n",
       " 'title': 'Utilities',\n",
       " 'amount': 100.0,\n",
       " 'created_at': '2025-02-20T10:59:02.757633+00:00',\n",
       " 'updated_at': '2025-02-20T10:59:02.757633+00:00'}"
      ]
     },
     "execution_count": 13,
     "metadata": {},
     "output_type": "execute_result"
    }
   ],
   "source": [
    "# Retrieve an expense4 by ID\n",
    "db.get_expense_by_id(expense4.id).to_dict()"
   ]
  },
  {
   "cell_type": "code",
   "execution_count": 15,
   "metadata": {},
   "outputs": [
    {
     "data": {
      "text/plain": [
       "[{'id': '528c3018-8e68-4e1a-8698-2e9ca5c3fabd',\n",
       "  'title': 'Groceries',\n",
       "  'amount': 50.0,\n",
       "  'created_at': '2025-02-20T10:59:02.757633+00:00',\n",
       "  'updated_at': '2025-02-20T10:59:02.757633+00:00'}]"
      ]
     },
     "execution_count": 15,
     "metadata": {},
     "output_type": "execute_result"
    }
   ],
   "source": [
    "# Retrieve expenses by title\n",
    "expenses = db.get_expense_by_title(\"Groceries\")\n",
    "[exp.to_dict() for exp in expenses]"
   ]
  },
  {
   "cell_type": "code",
   "execution_count": 16,
   "metadata": {},
   "outputs": [
    {
     "data": {
      "text/plain": [
       "[{'id': 'bf677da9-0ed4-46a8-acea-b2d721f79ff3',\n",
       "  'title': 'Utilities',\n",
       "  'amount': 100.0,\n",
       "  'created_at': '2025-02-20T10:59:02.757633+00:00',\n",
       "  'updated_at': '2025-02-20T10:59:02.757633+00:00'}]"
      ]
     },
     "execution_count": 16,
     "metadata": {},
     "output_type": "execute_result"
    }
   ],
   "source": [
    "# Retrieve expenses by title\n",
    "expenses = db.get_expense_by_title(\"Utilities\")\n",
    "[exp.to_dict() for exp in expenses]"
   ]
  },
  {
   "cell_type": "code",
   "execution_count": 18,
   "metadata": {},
   "outputs": [
    {
     "data": {
      "text/plain": [
       "[{'id': 'bf677da9-0ed4-46a8-acea-b2d721f79ff3',\n",
       "  'title': 'Utilities',\n",
       "  'amount': 100.0,\n",
       "  'created_at': '2025-02-20T10:59:02.757633+00:00',\n",
       "  'updated_at': '2025-02-20T10:59:02.757633+00:00'}]"
      ]
     },
     "execution_count": 18,
     "metadata": {},
     "output_type": "execute_result"
    }
   ],
   "source": [
    "# Remove an expense by ID\n",
    "db.remove_expense(expense3.id)\n",
    "\n",
    "# Check what is left in the database\n",
    "db.to_dict()"
   ]
  },
  {
   "cell_type": "code",
   "execution_count": null,
   "metadata": {},
   "outputs": [],
   "source": []
  }
 ],
 "metadata": {
  "kernelspec": {
   "display_name": "base",
   "language": "python",
   "name": "python3"
  },
  "language_info": {
   "codemirror_mode": {
    "name": "ipython",
    "version": 3
   },
   "file_extension": ".py",
   "mimetype": "text/x-python",
   "name": "python",
   "nbconvert_exporter": "python",
   "pygments_lexer": "ipython3",
   "version": "3.8.8"
  }
 },
 "nbformat": 4,
 "nbformat_minor": 2
}
